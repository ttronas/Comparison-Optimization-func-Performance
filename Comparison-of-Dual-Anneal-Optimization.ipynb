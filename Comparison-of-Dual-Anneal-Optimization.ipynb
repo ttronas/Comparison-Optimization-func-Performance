{
 "cells": [
  {
   "cell_type": "markdown",
   "metadata": {},
   "source": [
    "# Optimization of WWTP Gas Management - Comparison of different algorithms\n",
    "All results are for a reduced dataset of 100 points. Only Numba-solution was applied to full dataset. See chapter [Results on full dataset](#results-on-full-dataset) for results thereof.  \n",
    "**TOC**:  \n",
    "[Load and preprocess data](#load-and-preprocess-data)  \n",
    "[Regular optimization](#regular-optimization-by-ma-link)  \n",
    "[Optimization with `.apply()` and Decorator Function](#optimization-with-apply-and-decorator-function-by-stackoverflowhttpsstackoverflowcomquestions16698415reference-previous-row-when-iterating-through-dataframe)  \n",
    "[Optimization with `numba` compiled function](#optimization-with-numba-compiled-function-and-numpy-arrays)  \n",
    "**Created by**: Jonas Miederer  \n",
    "**Date**: 14.05.2022\n",
    "## Import/Install Modules\n",
    "**Note**: You may need to restart the kernel after installation!"
   ]
  },
  {
   "cell_type": "code",
   "execution_count": 16,
   "metadata": {},
   "outputs": [],
   "source": [
    "try:\n",
    "    import numpy as np\n",
    "    import pandas as pd\n",
    "    import time\n",
    "    import matplotlib.pyplot as plt\n",
    "    from numba import njit\n",
    "    from scipy.optimize import dual_annealing\n",
    "except:\n",
    "    %conda install -q -y numpy pandas matplotlib numba scipy\n",
    "    %conda install -c conda-forge time\n",
    "\n"
   ]
  },
  {
   "cell_type": "markdown",
   "metadata": {},
   "source": [
    "## Load and preprocess data"
   ]
  },
  {
   "cell_type": "code",
   "execution_count": 17,
   "metadata": {},
   "outputs": [
    {
     "data": {
      "text/html": [
       "<div>\n",
       "<style scoped>\n",
       "    .dataframe tbody tr th:only-of-type {\n",
       "        vertical-align: middle;\n",
       "    }\n",
       "\n",
       "    .dataframe tbody tr th {\n",
       "        vertical-align: top;\n",
       "    }\n",
       "\n",
       "    .dataframe thead th {\n",
       "        text-align: right;\n",
       "    }\n",
       "</style>\n",
       "<table border=\"1\" class=\"dataframe\">\n",
       "  <thead>\n",
       "    <tr style=\"text-align: right;\">\n",
       "      <th></th>\n",
       "      <th>date_time</th>\n",
       "      <th>Gasspeichervolumen</th>\n",
       "      <th>Tendenz</th>\n",
       "      <th>Stromerzeugung_BHKW1</th>\n",
       "      <th>diff_1</th>\n",
       "      <th>Stromerzeugung_BHKW1_calc</th>\n",
       "    </tr>\n",
       "  </thead>\n",
       "  <tbody>\n",
       "    <tr>\n",
       "      <th>0</th>\n",
       "      <td>2020-01-01 00:15:00</td>\n",
       "      <td>2437.221223</td>\n",
       "      <td>0.000000</td>\n",
       "      <td>263.077806</td>\n",
       "      <td>NaN</td>\n",
       "      <td>263.077806</td>\n",
       "    </tr>\n",
       "    <tr>\n",
       "      <th>1</th>\n",
       "      <td>2020-01-01 00:30:00</td>\n",
       "      <td>2447.924388</td>\n",
       "      <td>10.703166</td>\n",
       "      <td>266.132219</td>\n",
       "      <td>NaN</td>\n",
       "      <td>NaN</td>\n",
       "    </tr>\n",
       "    <tr>\n",
       "      <th>2</th>\n",
       "      <td>2020-01-01 00:45:00</td>\n",
       "      <td>2509.910858</td>\n",
       "      <td>61.986470</td>\n",
       "      <td>266.523385</td>\n",
       "      <td>NaN</td>\n",
       "      <td>NaN</td>\n",
       "    </tr>\n",
       "    <tr>\n",
       "      <th>3</th>\n",
       "      <td>2020-01-01 01:00:00</td>\n",
       "      <td>2507.587378</td>\n",
       "      <td>-2.323481</td>\n",
       "      <td>264.047482</td>\n",
       "      <td>NaN</td>\n",
       "      <td>NaN</td>\n",
       "    </tr>\n",
       "    <tr>\n",
       "      <th>4</th>\n",
       "      <td>2020-01-01 01:15:00</td>\n",
       "      <td>2509.335328</td>\n",
       "      <td>1.747950</td>\n",
       "      <td>265.765657</td>\n",
       "      <td>NaN</td>\n",
       "      <td>NaN</td>\n",
       "    </tr>\n",
       "  </tbody>\n",
       "</table>\n",
       "</div>"
      ],
      "text/plain": [
       "            date_time  Gasspeichervolumen    Tendenz  Stromerzeugung_BHKW1  \\\n",
       "0 2020-01-01 00:15:00         2437.221223   0.000000            263.077806   \n",
       "1 2020-01-01 00:30:00         2447.924388  10.703166            266.132219   \n",
       "2 2020-01-01 00:45:00         2509.910858  61.986470            266.523385   \n",
       "3 2020-01-01 01:00:00         2507.587378  -2.323481            264.047482   \n",
       "4 2020-01-01 01:15:00         2509.335328   1.747950            265.765657   \n",
       "\n",
       "   diff_1  Stromerzeugung_BHKW1_calc  \n",
       "0     NaN                 263.077806  \n",
       "1     NaN                        NaN  \n",
       "2     NaN                        NaN  \n",
       "3     NaN                        NaN  \n",
       "4     NaN                        NaN  "
      ]
     },
     "execution_count": 17,
     "metadata": {},
     "output_type": "execute_result"
    }
   ],
   "source": [
    "df_root = pd.read_csv(\"data_gas_management.csv\", skiprows= 1, sep=\";\", decimal=\".\",\n",
    "                 names=['t', 'Gasspeichervolumen', 'Tendenz', 'Stromerzeugung_BHKW1'])\n",
    "\n",
    "\n",
    "df_root['date_time'] = pd.to_datetime(df_root[\"t\"], format=\"%d.%m.%Y %H:%M\")\n",
    "del df_root['t']\n",
    "df_root = df_root[['date_time', 'Gasspeichervolumen', 'Tendenz', 'Stromerzeugung_BHKW1']]\n",
    "df_root['diff_1'] = np.nan\n",
    "\n",
    "# Stromerzeugung für ersten Zeitschritt übernehmen\n",
    "df_root.loc[0, 'Stromerzeugung_BHKW1_calc'] = df_root.loc[0, 'Stromerzeugung_BHKW1']\n",
    "df_root.head()\n"
   ]
  },
  {
   "cell_type": "markdown",
   "metadata": {},
   "source": [
    "## Regular optimization (by MA Link)"
   ]
  },
  {
   "cell_type": "code",
   "execution_count": 18,
   "metadata": {},
   "outputs": [
    {
     "name": "stdout",
     "output_type": "stream",
     "text": [
      "Regular optimization took 5.50s to compute\n",
      "Ergebnisse BHKW 1:       fun: 12309.732319839735\n",
      " message: ['Maximum number of iteration reached']\n",
      "    nfev: 380\n",
      "    nhev: 0\n",
      "     nit: 10\n",
      "    njev: 113\n",
      "  status: 0\n",
      " success: True\n",
      "       x: array([1445.52246886,   96.19569997])\n"
     ]
    },
    {
     "data": {
      "text/plain": [
       "<matplotlib.legend.Legend at 0x2809e472eb0>"
      ]
     },
     "execution_count": 18,
     "metadata": {},
     "output_type": "execute_result"
    },
    {
     "data": {
      "image/png": "[encoded data removed]",
      "text/plain": [
       "<Figure size 432x288 with 1 Axes>"
      ]
     },
     "metadata": {
      "needs_background": "light"
     },
     "output_type": "display_data"
    }
   ],
   "source": [
    "# Optimierung des kritischen Gasspeichervolumens sodass Stromerzegung möglichst realitätsnah\n",
    "# Bedingungen für BHKWs definieren und kritischen Speicherstand optimieren\n",
    "# obj1: Funktion die minimiert werden soll\n",
    "\n",
    "df = df_root.copy()\n",
    "\n",
    "def obj1(b1):\n",
    "    x1, t1 = b1\n",
    "    for i in range(1, len(df)):\n",
    "        condition_SE_BHKW12 = [\n",
    "            (df.loc[i, 'Gasspeichervolumen'] < x1) & (df.loc[i, 'Tendenz'] > t1) & (df.loc[i - 1, 'Stromerzeugung_BHKW1'] > 0),\n",
    "            (df.loc[i, 'Gasspeichervolumen'] < x1),\n",
    "            (df.loc[i, 'Gasspeichervolumen'] >= x1) & (df.loc[i, 'Gasspeichervolumen'] < 4500),\n",
    "            (df.loc[i, 'Gasspeichervolumen'] >= 4500)\n",
    "        ]\n",
    "        values_SE_BHKW12 = [\n",
    "            (x1 * 1.21e-4 + 0.455) * 851,\n",
    "            0,\n",
    "            (x1 * 1.21e-4 + 0.455) * 851,\n",
    "            851\n",
    "        ]\n",
    "        df.loc[i, 'Stromerzeugung_BHKW1_calc'] = np.select(condition_SE_BHKW12, values_SE_BHKW12) / 4\n",
    "    df['diff_1'] = df['Stromerzeugung_BHKW1_calc'] - df['Stromerzeugung_BHKW1']\n",
    "    df['diff_1'] = df['diff_1'].abs()\n",
    "    return df['diff_1'].sum()\n",
    "\n",
    "\n",
    "# xmin1, xmax1: Grenzen innerhalb derer Funktion minimiert wird\n",
    "xmin1 = 900\n",
    "xmax1 = 1500\n",
    "tmin1 = 0\n",
    "tmax1 = 100\n",
    "bounds1 = [[xmin1, xmax1], [tmin1, tmax1]]\n",
    "\n",
    "# Start the stopwatch\n",
    "tic1 = time.time()\n",
    "\n",
    "result1 = dual_annealing(obj1, bounds=bounds1, maxiter=10, seed=42)\n",
    "\n",
    "# Stop the stopwatch\n",
    "toc1 = time.time()\n",
    "\n",
    "print('Regular optimization took {:3.2f}s to compute'.format(toc1-tic1))\n",
    "\n",
    "# Zusammenfassung der Ergebnisse für BHKW 1\n",
    "print('Ergebnisse BHKW 1: ', result1)\n",
    "sol_BHKW1 = result1['x']\n",
    "\n",
    "plt.figure()\n",
    "plt.plot(df['Stromerzeugung_BHKW1'], label=\"original data\")\n",
    "plt.plot(df['Stromerzeugung_BHKW1_calc'], label=\"estimated data\")\n",
    "plt.legend()"
   ]
  },
  {
   "cell_type": "markdown",
   "metadata": {},
   "source": [
    "## Optimization with `.apply()` and Decorator Function (by [StackOverflow](https://stackoverflow.com/questions/16698415/reference-previous-row-when-iterating-through-dataframe))"
   ]
  },
  {
   "cell_type": "code",
   "execution_count": 19,
   "metadata": {},
   "outputs": [
    {
     "name": "stdout",
     "output_type": "stream",
     "text": [
      "Decorator optimization took 2.48s to compute\n",
      "Ergebnisse BHKW 1:       fun: 12438.828695778477\n",
      " message: ['Maximum number of iteration reached']\n",
      "    nfev: 296\n",
      "    nhev: 0\n",
      "     nit: 10\n",
      "    njev: 85\n",
      "  status: 0\n",
      " success: True\n",
      "       x: array([1445.24938613,   31.34217815])\n"
     ]
    },
    {
     "data": {
      "text/plain": [
       "<matplotlib.legend.Legend at 0x2809e4e3d00>"
      ]
     },
     "execution_count": 19,
     "metadata": {},
     "output_type": "execute_result"
    },
    {
     "data": {
      "image/png": "[encoded data removed]",
      "text/plain": [
       "<Figure size 432x288 with 1 Axes>"
      ]
     },
     "metadata": {
      "needs_background": "light"
     },
     "output_type": "display_data"
    }
   ],
   "source": [
    "df = df_root.copy()\n",
    "\n",
    "new_col = 'c'\n",
    "\n",
    "def apply_func_decorator(func):\n",
    "    prev_row = {}\n",
    "    def wrapper(curr_row, **kwargs):\n",
    "        val = func(curr_row, prev_row)\n",
    "        prev_row.update(curr_row)\n",
    "        prev_row[new_col] = val\n",
    "        return val\n",
    "    return wrapper\n",
    "\n",
    "\n",
    "\n",
    "def obj1_wrapper(b1):\n",
    "    x1, t1 = b1\n",
    "    \n",
    "    @apply_func_decorator  # Analog zu https://stackoverflow.com/questions/16698415/reference-previous-row-when-iterating-through-dataframe\n",
    "    def loop_through_df(curr_row, prev_row):\n",
    "        condition_SE_BHKW12 = [\n",
    "            (curr_row['Gasspeichervolumen'] < x1) & (curr_row['Tendenz'] > t1) & (prev_row.get('Stromerzeugung_BHKW1', 0) > 0),\n",
    "            (curr_row['Gasspeichervolumen'] < x1),\n",
    "            (curr_row['Gasspeichervolumen'] >= x1) & (curr_row['Gasspeichervolumen'] < 4500),\n",
    "            (curr_row['Gasspeichervolumen'] >= 4500)\n",
    "        ]\n",
    "        values_SE_BHKW12 = [\n",
    "            (x1 * 1.21e-4 + 0.455) * 851,\n",
    "            0,\n",
    "            (x1 * 1.21e-4 + 0.455) * 851,\n",
    "            851\n",
    "        ]\n",
    "        return np.select(condition_SE_BHKW12, values_SE_BHKW12) / 4\n",
    "\n",
    "    df['Stromerzeugung_BHKW1_calc'] = df.apply(loop_through_df, axis = 1)\n",
    "    df['diff_1'] = df['Stromerzeugung_BHKW1_calc'] - df['Stromerzeugung_BHKW1']\n",
    "    df['diff_1'] = df['diff_1'].abs()\n",
    "    return df['diff_1'].sum()\n",
    "\n",
    "\n",
    "# xmin1, xmax1: Grenzen innerhalb derer Funktion minimiert wird\n",
    "xmin1 = 900\n",
    "xmax1 = 1500\n",
    "tmin1 = 0\n",
    "tmax1 = 100\n",
    "bounds1 = [[xmin1, xmax1], [tmin1, tmax1]]\n",
    "\n",
    "# Start the stopwatch\n",
    "tic1 = time.time()\n",
    "\n",
    "result1 = dual_annealing(obj1_wrapper, bounds=bounds1, maxiter=10, seed=42)\n",
    "\n",
    "# Stop the stopwatch\n",
    "toc1 = time.time()\n",
    "\n",
    "print('Decorator optimization took {:3.2f}s to compute'.format(toc1-tic1))\n",
    "print('Ergebnisse BHKW 1: ', result1)\n",
    "\n",
    "plt.figure()\n",
    "plt.plot(df['Stromerzeugung_BHKW1'], label=\"original data\")\n",
    "plt.plot(df['Stromerzeugung_BHKW1_calc'], label=\"estimated data\")\n",
    "plt.legend()"
   ]
  },
  {
   "cell_type": "markdown",
   "metadata": {},
   "source": [
    "## Optimization with Numba-compiled function and NumPy arrays"
   ]
  },
  {
   "cell_type": "code",
   "execution_count": 20,
   "metadata": {},
   "outputs": [
    {
     "name": "stdout",
     "output_type": "stream",
     "text": [
      "Numba optimization took 0.51s to compute\n",
      "Ergebnisse BHKW 1:       fun: 12589.077500577032\n",
      " message: ['Maximum number of iteration reached']\n",
      "    nfev: 437\n",
      "    nhev: 0\n",
      "     nit: 10\n",
      "    njev: 132\n",
      "  status: 0\n",
      " success: True\n",
      "       x: array([1438.7999267 ,   31.34217815])\n"
     ]
    },
    {
     "data": {
      "text/plain": [
       "<matplotlib.legend.Legend at 0x2809cc99880>"
      ]
     },
     "execution_count": 20,
     "metadata": {},
     "output_type": "execute_result"
    },
    {
     "data": {
      "image/png": "[encoded data removed]",
      "text/plain": [
       "<Figure size 432x288 with 1 Axes>"
      ]
     },
     "metadata": {
      "needs_background": "light"
     },
     "output_type": "display_data"
    }
   ],
   "source": [
    "arr = df_root[['Gasspeichervolumen', 'Tendenz', 'Stromerzeugung_BHKW1', 'Stromerzeugung_BHKW1_calc', 'diff_1']].values\n",
    "\n",
    "@njit\n",
    "def apply_logic(arr, x1, t1):\n",
    "    calc_arr= np.zeros(arr[:, 0].shape)\n",
    "    for i in range(1, arr.shape[0]):\n",
    "        # arr uses columns ['Gasspeichervolumen', 'Tendenz', 'Stromerzeugung_BHKW1', 'Stromerzeugung_BHKW1_calc', 'diff_1']\n",
    "        if (arr[i, 0] < x1) & (arr[i, 1] > t1) & (arr[i-1, 2] > 0):\n",
    "            calc_arr[i] = (x1 * 1.21e-4 + 0.455) * 851\n",
    "        elif (arr[i, 0] < x1):\n",
    "            calc_arr[i] = 0\n",
    "        elif (arr[i, 0] >= x1) & (arr[i, 0] < 4500):\n",
    "            calc_arr[i] = (x1 * 1.21e-4 + 0.455) * 851\n",
    "        elif (arr[i, 0] >= 4500):\n",
    "            calc_arr[i] = 851\n",
    "    return calc_arr/4\n",
    "\n",
    "@njit\n",
    "def obj1_numba(b1):\n",
    "    x1, t1 = b1\n",
    "    # print(\" Trying with \" + str(x1) + \" \" + str(t1))\n",
    "    calc_arr= np.zeros(arr[:, 0].shape)*1.5\n",
    "    diff_arr = np.zeros(arr[:, 0].shape)*1.5\n",
    "\n",
    "    calc_arr = apply_logic(arr, x1, t1)\n",
    "\n",
    "    diff_arr = calc_arr - arr[:, 2]\n",
    "\n",
    "    return np.absolute(diff_arr).sum()\n",
    "\n",
    "# xmin1, xmax1: Grenzen innerhalb derer Funktion minimiert wird\n",
    "xmin1 = 900\n",
    "xmax1 = 1500\n",
    "tmin1 = 0\n",
    "tmax1 = 100\n",
    "bounds1 = [[xmin1, xmax1], [tmin1, tmax1]]\n",
    "\n",
    "# Start the stopwatch\n",
    "tic2 = time.time()\n",
    "\n",
    "result11 = dual_annealing(obj1_numba, bounds=bounds1, maxiter=10, seed=42)\n",
    "\n",
    "# Stop the stopwatch\n",
    "toc2 = time.time()\n",
    "\n",
    "# Constuct the estimation array based on optimization\n",
    "arr[:,3]=apply_logic(arr, result11.x[0], result11.x[1])\n",
    "\n",
    "\n",
    "print('Numba optimization took {:3.2f}s to compute'.format(toc2-tic2))\n",
    "print('Ergebnisse BHKW 1: ', result11)\n",
    "\n",
    "plt.figure()\n",
    "plt.plot(arr[:,2], label=\"original data\")\n",
    "plt.plot(arr[:,3], label=\"estimated data\")\n",
    "plt.legend()\n"
   ]
  },
  {
   "cell_type": "markdown",
   "metadata": {},
   "source": [
    "### Results on full dataset:\n",
    "```\n",
    "Regular optimization with NumPy arrays (without @njit) took 34.71s to compute\n",
    "Ergebnisse BHKW 1:       fun: 2073973.9317132381\n",
    " message: ['Maximum number of iteration reached']\n",
    "    nfev: 656\n",
    "    nhev: 0\n",
    "     nit: 10\n",
    "    njev: 205\n",
    "  status: 0\n",
    " success: True\n",
    "       x: array([1000.15805929,   16.92702695])\n",
    "\n",
    "Numba optimization (with @njit) took 0.48s to compute\n",
    "Ergebnisse BHKW 1:       fun: 2073974.4535927533\n",
    " message: ['Maximum number of iteration reached']\n",
    "    nfev: 494\n",
    "    nhev: 0\n",
    "     nit: 10\n",
    "    njev: 151\n",
    "  status: 0\n",
    " success: True\n",
    "       x: array([999.47997432,  16.92702695])\n",
    "```\n",
    "Rough comparison: [\"Regular\"](#regular-optimization-by-ma-link) algorithm took about 41 min to run on the complete dataset.  \n",
    "--> only 0.2 % of computation time needed!"
   ]
  }
 ],
 "metadata": {
  "interpreter": {
   "hash": "d90d37b67fec322df98d65ca50c5552ca248a059c21451dde327d1016dabb1a6"
  },
  "kernelspec": {
   "display_name": "Python 3.9.7 ('ct-env')",
   "language": "python",
   "name": "python3"
  },
  "language_info": {
   "codemirror_mode": {
    "name": "ipython",
    "version": 3
   },
   "file_extension": ".py",
   "mimetype": "text/x-python",
   "name": "python",
   "nbconvert_exporter": "python",
   "pygments_lexer": "ipython3",
   "version": "3.9.7"
  },
  "orig_nbformat": 4
 },
 "nbformat": 4,
 "nbformat_minor": 2
}
